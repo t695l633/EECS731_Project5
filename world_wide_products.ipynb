{
 "cells": [
  {
   "cell_type": "code",
   "execution_count": 1,
   "metadata": {},
   "outputs": [],
   "source": [
    "import numpy as np\n",
    "import pandas as pd\n",
    "import datetime as dt\n",
    "import calendar\n",
    "%matplotlib inline\n",
    "from datetime import date, datetime\n",
    "from sklearn import metrics\n",
    "from sklearn import preprocessing \n",
    "import matplotlib.pyplot as plt  # To visualize\n",
    "from sklearn.linear_model import LinearRegression\n",
    "from sklearn.model_selection import train_test_split\n",
    "\n",
    "from sklearn import datasets, linear_model\n",
    "from sklearn.metrics import mean_squared_error, r2_score\n",
    "\n",
    "from sklearn.metrics import r2_score\n",
    "import warnings\n",
    "from sklearn.ensemble import GradientBoostingRegressor"
   ]
  },
  {
   "cell_type": "markdown",
   "metadata": {},
   "source": [
    "# Feature Engineering\n",
    "    The changes I will make in order to make this data set more accessible are:\n",
    "    1- I will read in the date column as type Date so that it can be used later in in time series forcasting \n",
    "    2- I will label encode the Warehouse column.\n",
    "    3- Remove Product_ and Cetegory_ from the product code and product cetegory columns, and then convert their types to integers so they can be used in my model. To convert Demand to an int I had to first remove the () around negative numbers.\n",
    "    4- Convert Order_Demand from object types to integer types by removing () from negative numbers\n",
    "    5- Create a \"Days\" column to represent days passed since the first date in this data set. Since time move linearly, this will the points in my linear regression plot make sense."
   ]
  },
  {
   "cell_type": "code",
   "execution_count": 2,
   "metadata": {},
   "outputs": [
    {
     "data": {
      "text/html": [
       "<div>\n",
       "<style scoped>\n",
       "    .dataframe tbody tr th:only-of-type {\n",
       "        vertical-align: middle;\n",
       "    }\n",
       "\n",
       "    .dataframe tbody tr th {\n",
       "        vertical-align: top;\n",
       "    }\n",
       "\n",
       "    .dataframe thead th {\n",
       "        text-align: right;\n",
       "    }\n",
       "</style>\n",
       "<table border=\"1\" class=\"dataframe\">\n",
       "  <thead>\n",
       "    <tr style=\"text-align: right;\">\n",
       "      <th></th>\n",
       "      <th>Product_Code</th>\n",
       "      <th>Warehouse</th>\n",
       "      <th>Product_Category</th>\n",
       "      <th>Date</th>\n",
       "      <th>Order_Demand</th>\n",
       "    </tr>\n",
       "  </thead>\n",
       "  <tbody>\n",
       "    <tr>\n",
       "      <th>0</th>\n",
       "      <td>Product_0993</td>\n",
       "      <td>Whse_J</td>\n",
       "      <td>Category_028</td>\n",
       "      <td>2012-07-27</td>\n",
       "      <td>100</td>\n",
       "    </tr>\n",
       "    <tr>\n",
       "      <th>1</th>\n",
       "      <td>Product_0979</td>\n",
       "      <td>Whse_J</td>\n",
       "      <td>Category_028</td>\n",
       "      <td>2012-01-19</td>\n",
       "      <td>500</td>\n",
       "    </tr>\n",
       "    <tr>\n",
       "      <th>2</th>\n",
       "      <td>Product_0979</td>\n",
       "      <td>Whse_J</td>\n",
       "      <td>Category_028</td>\n",
       "      <td>2012-02-03</td>\n",
       "      <td>500</td>\n",
       "    </tr>\n",
       "    <tr>\n",
       "      <th>3</th>\n",
       "      <td>Product_0979</td>\n",
       "      <td>Whse_J</td>\n",
       "      <td>Category_028</td>\n",
       "      <td>2012-02-09</td>\n",
       "      <td>500</td>\n",
       "    </tr>\n",
       "    <tr>\n",
       "      <th>4</th>\n",
       "      <td>Product_0979</td>\n",
       "      <td>Whse_J</td>\n",
       "      <td>Category_028</td>\n",
       "      <td>2012-03-02</td>\n",
       "      <td>500</td>\n",
       "    </tr>\n",
       "  </tbody>\n",
       "</table>\n",
       "</div>"
      ],
      "text/plain": [
       "   Product_Code Warehouse Product_Category       Date Order_Demand\n",
       "0  Product_0993    Whse_J     Category_028 2012-07-27         100 \n",
       "1  Product_0979    Whse_J     Category_028 2012-01-19         500 \n",
       "2  Product_0979    Whse_J     Category_028 2012-02-03         500 \n",
       "3  Product_0979    Whse_J     Category_028 2012-02-09         500 \n",
       "4  Product_0979    Whse_J     Category_028 2012-03-02         500 "
      ]
     },
     "execution_count": 2,
     "metadata": {},
     "output_type": "execute_result"
    }
   ],
   "source": [
    "#Drop values containing na, read in the date column as type date\n",
    "productData = pd.read_csv('hpd.csv', parse_dates=[3])\n",
    "productData = productData.dropna()\n",
    "productData.head()"
   ]
  },
  {
   "cell_type": "code",
   "execution_count": 3,
   "metadata": {},
   "outputs": [
    {
     "data": {
      "text/html": [
       "<div>\n",
       "<style scoped>\n",
       "    .dataframe tbody tr th:only-of-type {\n",
       "        vertical-align: middle;\n",
       "    }\n",
       "\n",
       "    .dataframe tbody tr th {\n",
       "        vertical-align: top;\n",
       "    }\n",
       "\n",
       "    .dataframe thead th {\n",
       "        text-align: right;\n",
       "    }\n",
       "</style>\n",
       "<table border=\"1\" class=\"dataframe\">\n",
       "  <thead>\n",
       "    <tr style=\"text-align: right;\">\n",
       "      <th></th>\n",
       "      <th>Product_Code</th>\n",
       "      <th>Warehouse</th>\n",
       "      <th>Product_Category</th>\n",
       "      <th>Date</th>\n",
       "      <th>Order_Demand</th>\n",
       "    </tr>\n",
       "  </thead>\n",
       "  <tbody>\n",
       "    <tr>\n",
       "      <th>0</th>\n",
       "      <td>993</td>\n",
       "      <td>Whse_J</td>\n",
       "      <td>28</td>\n",
       "      <td>2012-07-27</td>\n",
       "      <td>100</td>\n",
       "    </tr>\n",
       "    <tr>\n",
       "      <th>1</th>\n",
       "      <td>979</td>\n",
       "      <td>Whse_J</td>\n",
       "      <td>28</td>\n",
       "      <td>2012-01-19</td>\n",
       "      <td>500</td>\n",
       "    </tr>\n",
       "    <tr>\n",
       "      <th>2</th>\n",
       "      <td>979</td>\n",
       "      <td>Whse_J</td>\n",
       "      <td>28</td>\n",
       "      <td>2012-02-03</td>\n",
       "      <td>500</td>\n",
       "    </tr>\n",
       "    <tr>\n",
       "      <th>3</th>\n",
       "      <td>979</td>\n",
       "      <td>Whse_J</td>\n",
       "      <td>28</td>\n",
       "      <td>2012-02-09</td>\n",
       "      <td>500</td>\n",
       "    </tr>\n",
       "    <tr>\n",
       "      <th>4</th>\n",
       "      <td>979</td>\n",
       "      <td>Whse_J</td>\n",
       "      <td>28</td>\n",
       "      <td>2012-03-02</td>\n",
       "      <td>500</td>\n",
       "    </tr>\n",
       "  </tbody>\n",
       "</table>\n",
       "</div>"
      ],
      "text/plain": [
       "   Product_Code Warehouse  Product_Category       Date  Order_Demand\n",
       "0           993    Whse_J                28 2012-07-27           100\n",
       "1           979    Whse_J                28 2012-01-19           500\n",
       "2           979    Whse_J                28 2012-02-03           500\n",
       "3           979    Whse_J                28 2012-02-09           500\n",
       "4           979    Whse_J                28 2012-03-02           500"
      ]
     },
     "execution_count": 3,
     "metadata": {},
     "output_type": "execute_result"
    }
   ],
   "source": [
    "#Remove Product_ and Category_ \n",
    "productData['Product_Code'] = productData['Product_Code'].str[8:]\n",
    "productData['Product_Category'] = productData['Product_Category'].str[9:]\n",
    "\n",
    "#then convert to int's\n",
    "productData['Product_Code'] = productData['Product_Code'].astype(int)\n",
    "productData['Product_Category'] = productData['Product_Category'].astype(int)\n",
    "\n",
    "#Convert Order_Demand from object type to int\n",
    "productData['Order_Demand'].replace('[(]', '-', inplace=True, regex=True)\n",
    "productData['Order_Demand'].replace('[)]', '', inplace=True, regex=True)\n",
    "productData['Order_Demand'] = productData['Order_Demand'].astype(int)\n",
    "\n",
    "productData.head()"
   ]
  },
  {
   "cell_type": "markdown",
   "metadata": {},
   "source": [
    "I am now going to label encode the Warehouse attribute, so that I can place warehouse values into a model."
   ]
  },
  {
   "cell_type": "code",
   "execution_count": 4,
   "metadata": {},
   "outputs": [
    {
     "data": {
      "text/html": [
       "<div>\n",
       "<style scoped>\n",
       "    .dataframe tbody tr th:only-of-type {\n",
       "        vertical-align: middle;\n",
       "    }\n",
       "\n",
       "    .dataframe tbody tr th {\n",
       "        vertical-align: top;\n",
       "    }\n",
       "\n",
       "    .dataframe thead th {\n",
       "        text-align: right;\n",
       "    }\n",
       "</style>\n",
       "<table border=\"1\" class=\"dataframe\">\n",
       "  <thead>\n",
       "    <tr style=\"text-align: right;\">\n",
       "      <th></th>\n",
       "      <th>Product_Code</th>\n",
       "      <th>Warehouse</th>\n",
       "      <th>Product_Category</th>\n",
       "      <th>Date</th>\n",
       "      <th>Order_Demand</th>\n",
       "    </tr>\n",
       "  </thead>\n",
       "  <tbody>\n",
       "    <tr>\n",
       "      <th>0</th>\n",
       "      <td>993</td>\n",
       "      <td>2</td>\n",
       "      <td>28</td>\n",
       "      <td>2012-07-27</td>\n",
       "      <td>100</td>\n",
       "    </tr>\n",
       "    <tr>\n",
       "      <th>1</th>\n",
       "      <td>979</td>\n",
       "      <td>2</td>\n",
       "      <td>28</td>\n",
       "      <td>2012-01-19</td>\n",
       "      <td>500</td>\n",
       "    </tr>\n",
       "    <tr>\n",
       "      <th>2</th>\n",
       "      <td>979</td>\n",
       "      <td>2</td>\n",
       "      <td>28</td>\n",
       "      <td>2012-02-03</td>\n",
       "      <td>500</td>\n",
       "    </tr>\n",
       "    <tr>\n",
       "      <th>3</th>\n",
       "      <td>979</td>\n",
       "      <td>2</td>\n",
       "      <td>28</td>\n",
       "      <td>2012-02-09</td>\n",
       "      <td>500</td>\n",
       "    </tr>\n",
       "    <tr>\n",
       "      <th>4</th>\n",
       "      <td>979</td>\n",
       "      <td>2</td>\n",
       "      <td>28</td>\n",
       "      <td>2012-03-02</td>\n",
       "      <td>500</td>\n",
       "    </tr>\n",
       "  </tbody>\n",
       "</table>\n",
       "</div>"
      ],
      "text/plain": [
       "   Product_Code  Warehouse  Product_Category       Date  Order_Demand\n",
       "0           993          2                28 2012-07-27           100\n",
       "1           979          2                28 2012-01-19           500\n",
       "2           979          2                28 2012-02-03           500\n",
       "3           979          2                28 2012-02-09           500\n",
       "4           979          2                28 2012-03-02           500"
      ]
     },
     "execution_count": 4,
     "metadata": {},
     "output_type": "execute_result"
    }
   ],
   "source": [
    "#label encode in place\n",
    "label_encoder = preprocessing.LabelEncoder() \n",
    "label_encoder.fit(productData['Warehouse'])\n",
    "productData['Warehouse'] = label_encoder.transform(productData['Warehouse'])\n",
    "productData.head()"
   ]
  },
  {
   "cell_type": "markdown",
   "metadata": {},
   "source": [
    "Now, this assignment asked us to make predictions for demand for a particular product, I will chose product 993 arbitrarily, as it is the first product I see above. I will drop all other rows from this data set. (I will then check that product 993 has enough points to sample)"
   ]
  },
  {
   "cell_type": "code",
   "execution_count": 5,
   "metadata": {
    "scrolled": false
   },
   "outputs": [
    {
     "data": {
      "text/html": [
       "<div>\n",
       "<style scoped>\n",
       "    .dataframe tbody tr th:only-of-type {\n",
       "        vertical-align: middle;\n",
       "    }\n",
       "\n",
       "    .dataframe tbody tr th {\n",
       "        vertical-align: top;\n",
       "    }\n",
       "\n",
       "    .dataframe thead th {\n",
       "        text-align: right;\n",
       "    }\n",
       "</style>\n",
       "<table border=\"1\" class=\"dataframe\">\n",
       "  <thead>\n",
       "    <tr style=\"text-align: right;\">\n",
       "      <th></th>\n",
       "      <th>Product_Code</th>\n",
       "      <th>Warehouse</th>\n",
       "      <th>Product_Category</th>\n",
       "      <th>Date</th>\n",
       "      <th>Order_Demand</th>\n",
       "    </tr>\n",
       "  </thead>\n",
       "  <tbody>\n",
       "    <tr>\n",
       "      <th>0</th>\n",
       "      <td>993</td>\n",
       "      <td>2</td>\n",
       "      <td>28</td>\n",
       "      <td>2012-07-27</td>\n",
       "      <td>100</td>\n",
       "    </tr>\n",
       "    <tr>\n",
       "      <th>34292</th>\n",
       "      <td>993</td>\n",
       "      <td>2</td>\n",
       "      <td>28</td>\n",
       "      <td>2012-09-13</td>\n",
       "      <td>300</td>\n",
       "    </tr>\n",
       "    <tr>\n",
       "      <th>34295</th>\n",
       "      <td>993</td>\n",
       "      <td>2</td>\n",
       "      <td>28</td>\n",
       "      <td>2012-09-19</td>\n",
       "      <td>500</td>\n",
       "    </tr>\n",
       "    <tr>\n",
       "      <th>34298</th>\n",
       "      <td>993</td>\n",
       "      <td>2</td>\n",
       "      <td>28</td>\n",
       "      <td>2012-10-09</td>\n",
       "      <td>300</td>\n",
       "    </tr>\n",
       "    <tr>\n",
       "      <th>85872</th>\n",
       "      <td>993</td>\n",
       "      <td>2</td>\n",
       "      <td>28</td>\n",
       "      <td>2012-11-08</td>\n",
       "      <td>200</td>\n",
       "    </tr>\n",
       "  </tbody>\n",
       "</table>\n",
       "</div>"
      ],
      "text/plain": [
       "       Product_Code  Warehouse  Product_Category       Date  Order_Demand\n",
       "0               993          2                28 2012-07-27           100\n",
       "34292           993          2                28 2012-09-13           300\n",
       "34295           993          2                28 2012-09-19           500\n",
       "34298           993          2                28 2012-10-09           300\n",
       "85872           993          2                28 2012-11-08           200"
      ]
     },
     "execution_count": 5,
     "metadata": {},
     "output_type": "execute_result"
    }
   ],
   "source": [
    "productData = productData[productData.Product_Code == 993]\n",
    "productData.head()"
   ]
  },
  {
   "cell_type": "markdown",
   "metadata": {},
   "source": [
    "I want to make sure that this product has at least 60 order demand values, one per month from each of the 5 years in this data set."
   ]
  },
  {
   "cell_type": "code",
   "execution_count": 6,
   "metadata": {},
   "outputs": [
    {
     "data": {
      "text/plain": [
       "312"
      ]
     },
     "execution_count": 6,
     "metadata": {},
     "output_type": "execute_result"
    }
   ],
   "source": [
    "len(productData.index)"
   ]
  },
  {
   "cell_type": "markdown",
   "metadata": {},
   "source": [
    "Since I have more than enough values to work with, I will proceed with product 993. "
   ]
  },
  {
   "cell_type": "markdown",
   "metadata": {},
   "source": [
    "# Creating Prediction Model"
   ]
  },
  {
   "cell_type": "markdown",
   "metadata": {},
   "source": [
    "First I am going to check out the information relating to each column, then plot the demand for product 993 against date."
   ]
  },
  {
   "cell_type": "code",
   "execution_count": 7,
   "metadata": {},
   "outputs": [
    {
     "name": "stdout",
     "output_type": "stream",
     "text": [
      "<class 'pandas.core.frame.DataFrame'>\n",
      "Int64Index: 312 entries, 0 to 1045085\n",
      "Data columns (total 5 columns):\n",
      "Product_Code        312 non-null int32\n",
      "Warehouse           312 non-null int32\n",
      "Product_Category    312 non-null int32\n",
      "Date                312 non-null datetime64[ns]\n",
      "Order_Demand        312 non-null int32\n",
      "dtypes: datetime64[ns](1), int32(4)\n",
      "memory usage: 9.8 KB\n"
     ]
    }
   ],
   "source": [
    "#Verify Date column is of type datetime64\n",
    "productData.info()"
   ]
  },
  {
   "cell_type": "code",
   "execution_count": 8,
   "metadata": {
    "scrolled": true
   },
   "outputs": [
    {
     "data": {
      "text/plain": [
       "[<matplotlib.lines.Line2D at 0x1c936c245c0>]"
      ]
     },
     "execution_count": 8,
     "metadata": {},
     "output_type": "execute_result"
    },
    {
     "data": {
      "image/png": "[encoded data removed]",
      "text/plain": [
       "<Figure size 1800x864 with 1 Axes>"
      ]
     },
     "metadata": {
      "needs_background": "light"
     },
     "output_type": "display_data"
    }
   ],
   "source": [
    "from pandas.plotting import register_matplotlib_converters\n",
    "register_matplotlib_converters()\n",
    "plt.figure(figsize = (25,12))\n",
    "plt.plot(productData['Date'], productData['Order_Demand'], \".\")"
   ]
  },
  {
   "cell_type": "markdown",
   "metadata": {},
   "source": [
    "I can see that I clearly have large negative outliars. This would likely be the result of someone returning inventory, or possibly a mistake in the data set. I am now going to remove negative values from my demand column to see if I can create a more clear picture of demand trends. It would not make sense to factor in returns when calculating how much inventory should be shipped out on a particular day."
   ]
  },
  {
   "cell_type": "code",
   "execution_count": 9,
   "metadata": {},
   "outputs": [
    {
     "data": {
      "text/plain": [
       "[<matplotlib.lines.Line2D at 0x1c9356fdeb8>]"
      ]
     },
     "execution_count": 9,
     "metadata": {},
     "output_type": "execute_result"
    },
    {
     "data": {
      "image/png": "[encoded data removed]",
      "text/plain": [
       "<Figure size 1800x864 with 1 Axes>"
      ]
     },
     "metadata": {
      "needs_background": "light"
     },
     "output_type": "display_data"
    }
   ],
   "source": [
    "productData = productData[productData.Order_Demand >= 0]\n",
    "plt.figure(figsize = (25,12))\n",
    "plt.plot(productData['Date'], productData['Order_Demand'], \".\")"
   ]
  },
  {
   "cell_type": "markdown",
   "metadata": {},
   "source": [
    "I will now sort my chart by date, and create a new chart where I graph demand vs days since the start. This will allow me to train my regression model on the first 90% of values, then make predictions (test set) on the last 10% of values."
   ]
  },
  {
   "cell_type": "code",
   "execution_count": 10,
   "metadata": {},
   "outputs": [
    {
     "data": {
      "text/html": [
       "<div>\n",
       "<style scoped>\n",
       "    .dataframe tbody tr th:only-of-type {\n",
       "        vertical-align: middle;\n",
       "    }\n",
       "\n",
       "    .dataframe tbody tr th {\n",
       "        vertical-align: top;\n",
       "    }\n",
       "\n",
       "    .dataframe thead th {\n",
       "        text-align: right;\n",
       "    }\n",
       "</style>\n",
       "<table border=\"1\" class=\"dataframe\">\n",
       "  <thead>\n",
       "    <tr style=\"text-align: right;\">\n",
       "      <th></th>\n",
       "      <th>index</th>\n",
       "      <th>Product_Code</th>\n",
       "      <th>Warehouse</th>\n",
       "      <th>Product_Category</th>\n",
       "      <th>Date</th>\n",
       "      <th>Order_Demand</th>\n",
       "      <th>Days</th>\n",
       "    </tr>\n",
       "  </thead>\n",
       "  <tbody>\n",
       "    <tr>\n",
       "      <th>0</th>\n",
       "      <td>137808</td>\n",
       "      <td>993</td>\n",
       "      <td>2</td>\n",
       "      <td>28</td>\n",
       "      <td>2012-01-19</td>\n",
       "      <td>100</td>\n",
       "      <td>0</td>\n",
       "    </tr>\n",
       "    <tr>\n",
       "      <th>1</th>\n",
       "      <td>137812</td>\n",
       "      <td>993</td>\n",
       "      <td>2</td>\n",
       "      <td>28</td>\n",
       "      <td>2012-02-08</td>\n",
       "      <td>100</td>\n",
       "      <td>20</td>\n",
       "    </tr>\n",
       "    <tr>\n",
       "      <th>2</th>\n",
       "      <td>146258</td>\n",
       "      <td>993</td>\n",
       "      <td>2</td>\n",
       "      <td>28</td>\n",
       "      <td>2012-02-22</td>\n",
       "      <td>100</td>\n",
       "      <td>34</td>\n",
       "    </tr>\n",
       "    <tr>\n",
       "      <th>3</th>\n",
       "      <td>87561</td>\n",
       "      <td>993</td>\n",
       "      <td>2</td>\n",
       "      <td>28</td>\n",
       "      <td>2012-03-05</td>\n",
       "      <td>200</td>\n",
       "      <td>46</td>\n",
       "    </tr>\n",
       "    <tr>\n",
       "      <th>4</th>\n",
       "      <td>137817</td>\n",
       "      <td>993</td>\n",
       "      <td>2</td>\n",
       "      <td>28</td>\n",
       "      <td>2012-03-06</td>\n",
       "      <td>100</td>\n",
       "      <td>47</td>\n",
       "    </tr>\n",
       "  </tbody>\n",
       "</table>\n",
       "</div>"
      ],
      "text/plain": [
       "    index  Product_Code  Warehouse  Product_Category       Date  Order_Demand  \\\n",
       "0  137808           993          2                28 2012-01-19           100   \n",
       "1  137812           993          2                28 2012-02-08           100   \n",
       "2  146258           993          2                28 2012-02-22           100   \n",
       "3   87561           993          2                28 2012-03-05           200   \n",
       "4  137817           993          2                28 2012-03-06           100   \n",
       "\n",
       "   Days  \n",
       "0     0  \n",
       "1    20  \n",
       "2    34  \n",
       "3    46  \n",
       "4    47  "
      ]
     },
     "execution_count": 10,
     "metadata": {},
     "output_type": "execute_result"
    }
   ],
   "source": [
    "productData = productData.sort_values(by=['Date']).reset_index()\n",
    "productData['Days'] = (productData['Date'] - productData['Date'][0])\n",
    "productData['Days'] = productData['Days'].apply(lambda x : x.days)\n",
    "productData.head()"
   ]
  },
  {
   "cell_type": "code",
   "execution_count": 11,
   "metadata": {},
   "outputs": [
    {
     "name": "stdout",
     "output_type": "stream",
     "text": [
      "R^2 Coefficient:\n",
      "-0.002347236025507904\n"
     ]
    },
    {
     "data": {
      "text/plain": [
       "[<matplotlib.lines.Line2D at 0x1c9357685c0>]"
      ]
     },
     "execution_count": 11,
     "metadata": {},
     "output_type": "execute_result"
    },
    {
     "data": {
      "image/png": "[encoded data removed]",
      "text/plain": [
       "<Figure size 864x288 with 1 Axes>"
      ]
     },
     "metadata": {
      "needs_background": "light"
     },
     "output_type": "display_data"
    }
   ],
   "source": [
    "x = productData[['Days']]\n",
    "y = productData['Order_Demand']\n",
    "productData.head()\n",
    "\n",
    "#split data into first 90% of data (dates) to train on, then test on last 10% of data\n",
    "train_pct_index = int(0.9 * len(x))\n",
    "X_train, X_test = x[:train_pct_index], x[train_pct_index:]\n",
    "y_train, y_test = y[:train_pct_index], y[train_pct_index:]\n",
    "\n",
    "\n",
    "\n",
    "lm = LinearRegression()\n",
    "lm = lm.fit( X_train, y_train )\n",
    "y_predict = lm.predict(X_test)\n",
    "\n",
    "predx = lm.score(X_test, y_test)\n",
    "print(\"R^2 Coefficient:\")\n",
    "print(predx)\n",
    "plt.figure(figsize = (12,4))\n",
    "plt.plot(X_test, y_test, \".\")\n",
    "\n",
    "plt.plot(X_test, y_predict, \"r\")"
   ]
  },
  {
   "cell_type": "markdown",
   "metadata": {},
   "source": []
  },
  {
   "cell_type": "markdown",
   "metadata": {},
   "source": [
    "Clearly this linear model was poor, as it's R^2 value was negative, meaning that guessing the average is a better predictor than using the model. I will now attempt to create a time series model out of this data."
   ]
  },
  {
   "cell_type": "code",
   "execution_count": 12,
   "metadata": {},
   "outputs": [
    {
     "data": {
      "text/html": [
       "<div>\n",
       "<style scoped>\n",
       "    .dataframe tbody tr th:only-of-type {\n",
       "        vertical-align: middle;\n",
       "    }\n",
       "\n",
       "    .dataframe tbody tr th {\n",
       "        vertical-align: top;\n",
       "    }\n",
       "\n",
       "    .dataframe thead th {\n",
       "        text-align: right;\n",
       "    }\n",
       "</style>\n",
       "<table border=\"1\" class=\"dataframe\">\n",
       "  <thead>\n",
       "    <tr style=\"text-align: right;\">\n",
       "      <th></th>\n",
       "      <th>Date</th>\n",
       "      <th>Order_Demand</th>\n",
       "    </tr>\n",
       "  </thead>\n",
       "  <tbody>\n",
       "    <tr>\n",
       "      <th>0</th>\n",
       "      <td>2012-01-19</td>\n",
       "      <td>100</td>\n",
       "    </tr>\n",
       "    <tr>\n",
       "      <th>1</th>\n",
       "      <td>2012-02-08</td>\n",
       "      <td>100</td>\n",
       "    </tr>\n",
       "    <tr>\n",
       "      <th>2</th>\n",
       "      <td>2012-02-22</td>\n",
       "      <td>100</td>\n",
       "    </tr>\n",
       "    <tr>\n",
       "      <th>3</th>\n",
       "      <td>2012-03-05</td>\n",
       "      <td>200</td>\n",
       "    </tr>\n",
       "    <tr>\n",
       "      <th>4</th>\n",
       "      <td>2012-03-06</td>\n",
       "      <td>100</td>\n",
       "    </tr>\n",
       "  </tbody>\n",
       "</table>\n",
       "</div>"
      ],
      "text/plain": [
       "        Date  Order_Demand\n",
       "0 2012-01-19           100\n",
       "1 2012-02-08           100\n",
       "2 2012-02-22           100\n",
       "3 2012-03-05           200\n",
       "4 2012-03-06           100"
      ]
     },
     "execution_count": 12,
     "metadata": {},
     "output_type": "execute_result"
    }
   ],
   "source": [
    "ts = productData[['Date', 'Order_Demand']].copy()\n",
    "ts.head()"
   ]
  },
  {
   "cell_type": "code",
   "execution_count": 13,
   "metadata": {
    "scrolled": true
   },
   "outputs": [
    {
     "name": "stdout",
     "output_type": "stream",
     "text": [
      "<class 'pandas.core.frame.DataFrame'>\n",
      "DatetimeIndex: 307 entries, 2012-01-19 to 2016-12-21\n",
      "Data columns (total 1 columns):\n",
      "Order_Demand    307 non-null int32\n",
      "dtypes: int32(1)\n",
      "memory usage: 3.6 KB\n"
     ]
    }
   ],
   "source": [
    "ts.set_index('Date', inplace=True)\n",
    "ts.info()"
   ]
  },
  {
   "cell_type": "markdown",
   "metadata": {},
   "source": [
    "I am now using resample to replace all days with no data as 0's, since there was no order demand that day."
   ]
  },
  {
   "cell_type": "code",
   "execution_count": 14,
   "metadata": {
    "scrolled": true
   },
   "outputs": [
    {
     "data": {
      "text/plain": [
       "[<matplotlib.lines.Line2D at 0x1c935bcd710>]"
      ]
     },
     "execution_count": 14,
     "metadata": {},
     "output_type": "execute_result"
    },
    {
     "data": {
      "image/png": "[encoded data removed]",
      "text/plain": [
       "<Figure size 864x288 with 1 Axes>"
      ]
     },
     "metadata": {
      "needs_background": "light"
     },
     "output_type": "display_data"
    }
   ],
   "source": [
    "ts = ts.resample('D').sum()\n",
    "plt.figure(figsize = (12,4))\n",
    "plt.plot(ts)"
   ]
  },
  {
   "cell_type": "markdown",
   "metadata": {},
   "source": [
    "Here I am plotting the original data vs the moving average. I have chosen a window of size 10 meaning each point is an average of the 10 days around it. As the window grows the jumps in the data become smaller, as the averages become closer together."
   ]
  },
  {
   "cell_type": "code",
   "execution_count": 15,
   "metadata": {
    "scrolled": true
   },
   "outputs": [
    {
     "name": "stdout",
     "output_type": "stream",
     "text": [
      "            Order_Demand\n",
      "Date                    \n",
      "2012-01-19           NaN\n",
      "2012-01-20           NaN\n",
      "2012-01-21           NaN\n",
      "2012-01-22           NaN\n",
      "2012-01-23           NaN\n",
      "2012-01-24           NaN\n",
      "2012-01-25           NaN\n",
      "2012-01-26           NaN\n",
      "2012-01-27           NaN\n",
      "2012-01-28          10.0\n"
     ]
    },
    {
     "data": {
      "text/plain": [
       "<matplotlib.axes._subplots.AxesSubplot at 0x1c935d46160>"
      ]
     },
     "execution_count": 15,
     "metadata": {},
     "output_type": "execute_result"
    },
    {
     "data": {
      "image/png": "[encoded data removed]",
      "text/plain": [
       "<Figure size 432x288 with 1 Axes>"
      ]
     },
     "metadata": {
      "needs_background": "light"
     },
     "output_type": "display_data"
    },
    {
     "data": {
      "image/png": "[encoded data removed]",
      "text/plain": [
       "<Figure size 432x288 with 1 Axes>"
      ]
     },
     "metadata": {
      "needs_background": "light"
     },
     "output_type": "display_data"
    }
   ],
   "source": [
    "rolling = ts.rolling(window=10)\n",
    "rolling_mean = rolling.mean()\n",
    "print(rolling_mean.head(10))\n",
    "# plot original and transformed dataset\n",
    "ts.plot()\n",
    "rolling_mean.plot(color='red')"
   ]
  },
  {
   "cell_type": "code",
   "execution_count": 16,
   "metadata": {},
   "outputs": [
    {
     "data": {
      "text/html": [
       "<div>\n",
       "<style scoped>\n",
       "    .dataframe tbody tr th:only-of-type {\n",
       "        vertical-align: middle;\n",
       "    }\n",
       "\n",
       "    .dataframe tbody tr th {\n",
       "        vertical-align: top;\n",
       "    }\n",
       "\n",
       "    .dataframe thead th {\n",
       "        text-align: right;\n",
       "    }\n",
       "</style>\n",
       "<table border=\"1\" class=\"dataframe\">\n",
       "  <thead>\n",
       "    <tr style=\"text-align: right;\">\n",
       "      <th></th>\n",
       "      <th>Order_Demand</th>\n",
       "    </tr>\n",
       "    <tr>\n",
       "      <th>Date</th>\n",
       "      <th></th>\n",
       "    </tr>\n",
       "  </thead>\n",
       "  <tbody>\n",
       "    <tr>\n",
       "      <th>2012-01-19</th>\n",
       "      <td>NaN</td>\n",
       "    </tr>\n",
       "    <tr>\n",
       "      <th>2012-01-20</th>\n",
       "      <td>NaN</td>\n",
       "    </tr>\n",
       "    <tr>\n",
       "      <th>2012-01-21</th>\n",
       "      <td>NaN</td>\n",
       "    </tr>\n",
       "    <tr>\n",
       "      <th>2012-01-22</th>\n",
       "      <td>NaN</td>\n",
       "    </tr>\n",
       "    <tr>\n",
       "      <th>2012-01-23</th>\n",
       "      <td>NaN</td>\n",
       "    </tr>\n",
       "    <tr>\n",
       "      <th>2012-01-24</th>\n",
       "      <td>NaN</td>\n",
       "    </tr>\n",
       "    <tr>\n",
       "      <th>2012-01-25</th>\n",
       "      <td>NaN</td>\n",
       "    </tr>\n",
       "    <tr>\n",
       "      <th>2012-01-26</th>\n",
       "      <td>NaN</td>\n",
       "    </tr>\n",
       "    <tr>\n",
       "      <th>2012-01-27</th>\n",
       "      <td>NaN</td>\n",
       "    </tr>\n",
       "    <tr>\n",
       "      <th>2012-01-28</th>\n",
       "      <td>10.0</td>\n",
       "    </tr>\n",
       "    <tr>\n",
       "      <th>2012-01-29</th>\n",
       "      <td>0.0</td>\n",
       "    </tr>\n",
       "    <tr>\n",
       "      <th>2012-01-30</th>\n",
       "      <td>0.0</td>\n",
       "    </tr>\n",
       "    <tr>\n",
       "      <th>2012-01-31</th>\n",
       "      <td>0.0</td>\n",
       "    </tr>\n",
       "    <tr>\n",
       "      <th>2012-02-01</th>\n",
       "      <td>0.0</td>\n",
       "    </tr>\n",
       "    <tr>\n",
       "      <th>2012-02-02</th>\n",
       "      <td>0.0</td>\n",
       "    </tr>\n",
       "    <tr>\n",
       "      <th>2012-02-03</th>\n",
       "      <td>0.0</td>\n",
       "    </tr>\n",
       "    <tr>\n",
       "      <th>2012-02-04</th>\n",
       "      <td>0.0</td>\n",
       "    </tr>\n",
       "    <tr>\n",
       "      <th>2012-02-05</th>\n",
       "      <td>0.0</td>\n",
       "    </tr>\n",
       "    <tr>\n",
       "      <th>2012-02-06</th>\n",
       "      <td>0.0</td>\n",
       "    </tr>\n",
       "    <tr>\n",
       "      <th>2012-02-07</th>\n",
       "      <td>0.0</td>\n",
       "    </tr>\n",
       "    <tr>\n",
       "      <th>2012-02-08</th>\n",
       "      <td>10.0</td>\n",
       "    </tr>\n",
       "    <tr>\n",
       "      <th>2012-02-09</th>\n",
       "      <td>10.0</td>\n",
       "    </tr>\n",
       "    <tr>\n",
       "      <th>2012-02-10</th>\n",
       "      <td>10.0</td>\n",
       "    </tr>\n",
       "    <tr>\n",
       "      <th>2012-02-11</th>\n",
       "      <td>10.0</td>\n",
       "    </tr>\n",
       "    <tr>\n",
       "      <th>2012-02-12</th>\n",
       "      <td>10.0</td>\n",
       "    </tr>\n",
       "    <tr>\n",
       "      <th>2012-02-13</th>\n",
       "      <td>10.0</td>\n",
       "    </tr>\n",
       "    <tr>\n",
       "      <th>2012-02-14</th>\n",
       "      <td>10.0</td>\n",
       "    </tr>\n",
       "    <tr>\n",
       "      <th>2012-02-15</th>\n",
       "      <td>10.0</td>\n",
       "    </tr>\n",
       "    <tr>\n",
       "      <th>2012-02-16</th>\n",
       "      <td>10.0</td>\n",
       "    </tr>\n",
       "    <tr>\n",
       "      <th>2012-02-17</th>\n",
       "      <td>10.0</td>\n",
       "    </tr>\n",
       "    <tr>\n",
       "      <th>...</th>\n",
       "      <td>...</td>\n",
       "    </tr>\n",
       "    <tr>\n",
       "      <th>2016-11-22</th>\n",
       "      <td>10.0</td>\n",
       "    </tr>\n",
       "    <tr>\n",
       "      <th>2016-11-23</th>\n",
       "      <td>10.0</td>\n",
       "    </tr>\n",
       "    <tr>\n",
       "      <th>2016-11-24</th>\n",
       "      <td>10.0</td>\n",
       "    </tr>\n",
       "    <tr>\n",
       "      <th>2016-11-25</th>\n",
       "      <td>10.0</td>\n",
       "    </tr>\n",
       "    <tr>\n",
       "      <th>2016-11-26</th>\n",
       "      <td>0.0</td>\n",
       "    </tr>\n",
       "    <tr>\n",
       "      <th>2016-11-27</th>\n",
       "      <td>0.0</td>\n",
       "    </tr>\n",
       "    <tr>\n",
       "      <th>2016-11-28</th>\n",
       "      <td>0.0</td>\n",
       "    </tr>\n",
       "    <tr>\n",
       "      <th>2016-11-29</th>\n",
       "      <td>10.0</td>\n",
       "    </tr>\n",
       "    <tr>\n",
       "      <th>2016-11-30</th>\n",
       "      <td>20.0</td>\n",
       "    </tr>\n",
       "    <tr>\n",
       "      <th>2016-12-01</th>\n",
       "      <td>30.0</td>\n",
       "    </tr>\n",
       "    <tr>\n",
       "      <th>2016-12-02</th>\n",
       "      <td>30.0</td>\n",
       "    </tr>\n",
       "    <tr>\n",
       "      <th>2016-12-03</th>\n",
       "      <td>30.0</td>\n",
       "    </tr>\n",
       "    <tr>\n",
       "      <th>2016-12-04</th>\n",
       "      <td>30.0</td>\n",
       "    </tr>\n",
       "    <tr>\n",
       "      <th>2016-12-05</th>\n",
       "      <td>30.0</td>\n",
       "    </tr>\n",
       "    <tr>\n",
       "      <th>2016-12-06</th>\n",
       "      <td>30.0</td>\n",
       "    </tr>\n",
       "    <tr>\n",
       "      <th>2016-12-07</th>\n",
       "      <td>40.0</td>\n",
       "    </tr>\n",
       "    <tr>\n",
       "      <th>2016-12-08</th>\n",
       "      <td>50.0</td>\n",
       "    </tr>\n",
       "    <tr>\n",
       "      <th>2016-12-09</th>\n",
       "      <td>40.0</td>\n",
       "    </tr>\n",
       "    <tr>\n",
       "      <th>2016-12-10</th>\n",
       "      <td>30.0</td>\n",
       "    </tr>\n",
       "    <tr>\n",
       "      <th>2016-12-11</th>\n",
       "      <td>20.0</td>\n",
       "    </tr>\n",
       "    <tr>\n",
       "      <th>2016-12-12</th>\n",
       "      <td>30.0</td>\n",
       "    </tr>\n",
       "    <tr>\n",
       "      <th>2016-12-13</th>\n",
       "      <td>30.0</td>\n",
       "    </tr>\n",
       "    <tr>\n",
       "      <th>2016-12-14</th>\n",
       "      <td>30.0</td>\n",
       "    </tr>\n",
       "    <tr>\n",
       "      <th>2016-12-15</th>\n",
       "      <td>30.0</td>\n",
       "    </tr>\n",
       "    <tr>\n",
       "      <th>2016-12-16</th>\n",
       "      <td>30.0</td>\n",
       "    </tr>\n",
       "    <tr>\n",
       "      <th>2016-12-17</th>\n",
       "      <td>20.0</td>\n",
       "    </tr>\n",
       "    <tr>\n",
       "      <th>2016-12-18</th>\n",
       "      <td>10.0</td>\n",
       "    </tr>\n",
       "    <tr>\n",
       "      <th>2016-12-19</th>\n",
       "      <td>30.0</td>\n",
       "    </tr>\n",
       "    <tr>\n",
       "      <th>2016-12-20</th>\n",
       "      <td>30.0</td>\n",
       "    </tr>\n",
       "    <tr>\n",
       "      <th>2016-12-21</th>\n",
       "      <td>40.0</td>\n",
       "    </tr>\n",
       "  </tbody>\n",
       "</table>\n",
       "<p>1799 rows × 1 columns</p>\n",
       "</div>"
      ],
      "text/plain": [
       "            Order_Demand\n",
       "Date                    \n",
       "2012-01-19           NaN\n",
       "2012-01-20           NaN\n",
       "2012-01-21           NaN\n",
       "2012-01-22           NaN\n",
       "2012-01-23           NaN\n",
       "2012-01-24           NaN\n",
       "2012-01-25           NaN\n",
       "2012-01-26           NaN\n",
       "2012-01-27           NaN\n",
       "2012-01-28          10.0\n",
       "2012-01-29           0.0\n",
       "2012-01-30           0.0\n",
       "2012-01-31           0.0\n",
       "2012-02-01           0.0\n",
       "2012-02-02           0.0\n",
       "2012-02-03           0.0\n",
       "2012-02-04           0.0\n",
       "2012-02-05           0.0\n",
       "2012-02-06           0.0\n",
       "2012-02-07           0.0\n",
       "2012-02-08          10.0\n",
       "2012-02-09          10.0\n",
       "2012-02-10          10.0\n",
       "2012-02-11          10.0\n",
       "2012-02-12          10.0\n",
       "2012-02-13          10.0\n",
       "2012-02-14          10.0\n",
       "2012-02-15          10.0\n",
       "2012-02-16          10.0\n",
       "2012-02-17          10.0\n",
       "...                  ...\n",
       "2016-11-22          10.0\n",
       "2016-11-23          10.0\n",
       "2016-11-24          10.0\n",
       "2016-11-25          10.0\n",
       "2016-11-26           0.0\n",
       "2016-11-27           0.0\n",
       "2016-11-28           0.0\n",
       "2016-11-29          10.0\n",
       "2016-11-30          20.0\n",
       "2016-12-01          30.0\n",
       "2016-12-02          30.0\n",
       "2016-12-03          30.0\n",
       "2016-12-04          30.0\n",
       "2016-12-05          30.0\n",
       "2016-12-06          30.0\n",
       "2016-12-07          40.0\n",
       "2016-12-08          50.0\n",
       "2016-12-09          40.0\n",
       "2016-12-10          30.0\n",
       "2016-12-11          20.0\n",
       "2016-12-12          30.0\n",
       "2016-12-13          30.0\n",
       "2016-12-14          30.0\n",
       "2016-12-15          30.0\n",
       "2016-12-16          30.0\n",
       "2016-12-17          20.0\n",
       "2016-12-18          10.0\n",
       "2016-12-19          30.0\n",
       "2016-12-20          30.0\n",
       "2016-12-21          40.0\n",
       "\n",
       "[1799 rows x 1 columns]"
      ]
     },
     "execution_count": 16,
     "metadata": {},
     "output_type": "execute_result"
    }
   ],
   "source": [
    "rolling_mean"
   ]
  },
  {
   "cell_type": "markdown",
   "metadata": {},
   "source": [
    "I am going to add a \"Days\" column so I can run the same test I ran before again using my rolling mean with a 10 day window. Then I removed the first 10 values from rolling_mean data set so I have no NAN values. "
   ]
  },
  {
   "cell_type": "code",
   "execution_count": 17,
   "metadata": {},
   "outputs": [
    {
     "data": {
      "text/html": [
       "<div>\n",
       "<style scoped>\n",
       "    .dataframe tbody tr th:only-of-type {\n",
       "        vertical-align: middle;\n",
       "    }\n",
       "\n",
       "    .dataframe tbody tr th {\n",
       "        vertical-align: top;\n",
       "    }\n",
       "\n",
       "    .dataframe thead th {\n",
       "        text-align: right;\n",
       "    }\n",
       "</style>\n",
       "<table border=\"1\" class=\"dataframe\">\n",
       "  <thead>\n",
       "    <tr style=\"text-align: right;\">\n",
       "      <th></th>\n",
       "      <th>Date</th>\n",
       "      <th>Order_Demand</th>\n",
       "      <th>Days</th>\n",
       "    </tr>\n",
       "  </thead>\n",
       "  <tbody>\n",
       "    <tr>\n",
       "      <th>9</th>\n",
       "      <td>2012-01-28</td>\n",
       "      <td>10.0</td>\n",
       "      <td>9</td>\n",
       "    </tr>\n",
       "    <tr>\n",
       "      <th>10</th>\n",
       "      <td>2012-01-29</td>\n",
       "      <td>0.0</td>\n",
       "      <td>10</td>\n",
       "    </tr>\n",
       "    <tr>\n",
       "      <th>11</th>\n",
       "      <td>2012-01-30</td>\n",
       "      <td>0.0</td>\n",
       "      <td>11</td>\n",
       "    </tr>\n",
       "    <tr>\n",
       "      <th>12</th>\n",
       "      <td>2012-01-31</td>\n",
       "      <td>0.0</td>\n",
       "      <td>12</td>\n",
       "    </tr>\n",
       "    <tr>\n",
       "      <th>13</th>\n",
       "      <td>2012-02-01</td>\n",
       "      <td>0.0</td>\n",
       "      <td>13</td>\n",
       "    </tr>\n",
       "  </tbody>\n",
       "</table>\n",
       "</div>"
      ],
      "text/plain": [
       "         Date  Order_Demand  Days\n",
       "9  2012-01-28          10.0     9\n",
       "10 2012-01-29           0.0    10\n",
       "11 2012-01-30           0.0    11\n",
       "12 2012-01-31           0.0    12\n",
       "13 2012-02-01           0.0    13"
      ]
     },
     "execution_count": 17,
     "metadata": {},
     "output_type": "execute_result"
    }
   ],
   "source": [
    "rolling_mean = rolling_mean.sort_values(by=['Date']).reset_index()\n",
    "rolling_mean['Days'] = (rolling_mean['Date'] - rolling_mean['Date'][0])\n",
    "rolling_mean['Days'] = rolling_mean['Days'].apply(lambda x : x.days)\n",
    "\n",
    "rolling_mean = rolling_mean.iloc[9:]\n",
    "rolling_mean.head()"
   ]
  },
  {
   "cell_type": "code",
   "execution_count": 18,
   "metadata": {},
   "outputs": [
    {
     "name": "stdout",
     "output_type": "stream",
     "text": [
      "R^2 Coefficient:\n",
      "-0.0025133234823146995\n"
     ]
    },
    {
     "data": {
      "text/plain": [
       "[<matplotlib.lines.Line2D at 0x1c935e1ada0>]"
      ]
     },
     "execution_count": 18,
     "metadata": {},
     "output_type": "execute_result"
    },
    {
     "data": {
      "image/png": "[encoded data removed]",
      "text/plain": [
       "<Figure size 864x288 with 1 Axes>"
      ]
     },
     "metadata": {
      "needs_background": "light"
     },
     "output_type": "display_data"
    }
   ],
   "source": [
    "x = rolling_mean[['Days']]\n",
    "y = rolling_mean['Order_Demand']\n",
    "\n",
    "#split data into first 90% of data (dates) to train on, then test on last 10% of data\n",
    "train_pct_index = int(0.9 * len(x))\n",
    "X_train, X_test = x[:train_pct_index], x[train_pct_index:]\n",
    "y_train, y_test = y[:train_pct_index], y[train_pct_index:]\n",
    "\n",
    "\n",
    "\n",
    "lm = LinearRegression()\n",
    "lm = lm.fit( X_train, y_train )\n",
    "y_predict = lm.predict(X_test)\n",
    "\n",
    "predx = lm.score(X_test, y_test)\n",
    "print(\"R^2 Coefficient:\")\n",
    "print(predx)\n",
    "plt.figure(figsize = (12,4))\n",
    "plt.plot(X_test, y_test, \".\")\n",
    "\n",
    "plt.plot(X_test, y_predict, \"r\")"
   ]
  },
  {
   "cell_type": "markdown",
   "metadata": {},
   "source": [
    "Clearly linear regression models are not working for this data set. I have attempted this model for both the original data set and the same data set but calculated with a 10-day moving average. This makes sense because this data set is not linear, and has no clear trends. For this reason I will now attempt to plot the data using a gradient boosting regressor."
   ]
  },
  {
   "cell_type": "markdown",
   "metadata": {},
   "source": [
    "# Gradient boosting regressor"
   ]
  },
  {
   "cell_type": "code",
   "execution_count": 19,
   "metadata": {},
   "outputs": [],
   "source": [
    "# Fit the training & test data, then print the R^2 values.\n",
    "def fitAndPrint(reg):\n",
    "        reg = reg.fit(X_train, y_train)\n",
    "        print(\"-Testing R^2: %4.4f\" %\n",
    "          r2_score(y_test, reg.predict(X_test), multioutput='variance_weighted'))\n"
   ]
  },
  {
   "cell_type": "code",
   "execution_count": 20,
   "metadata": {},
   "outputs": [
    {
     "name": "stdout",
     "output_type": "stream",
     "text": [
      "Gradient Boosting Regressor:\n",
      "-Testing R^2: -0.0059\n"
     ]
    }
   ],
   "source": [
    "with warnings.catch_warnings():\n",
    "    warnings.simplefilter(\"ignore\")\n",
    "    \n",
    "    gb = GradientBoostingRegressor()\n",
    "    print(\"Gradient Boosting Regressor:\")\n",
    "    fitAndPrint(gb)"
   ]
  },
  {
   "cell_type": "markdown",
   "metadata": {},
   "source": [
    "I have now tested the data using both a linear and a gradient boosting regressor. Neither had much accuracy, likely due to the randomness of this data set. In both cases, it was more beneficial to just guess the average demand each day rather than try to calculate it use one of my 3 regression models (linear, linear on moving average, gradient boosting). It would have been easier to create a model if the demand had been consistent, or if orders were placed every day."
   ]
  }
 ],
 "metadata": {
  "kernelspec": {
   "display_name": "Python 3",
   "language": "python",
   "name": "python3"
  },
  "language_info": {
   "codemirror_mode": {
    "name": "ipython",
    "version": 3
   },
   "file_extension": ".py",
   "mimetype": "text/x-python",
   "name": "python",
   "nbconvert_exporter": "python",
   "pygments_lexer": "ipython3",
   "version": "3.7.3"
  }
 },
 "nbformat": 4,
 "nbformat_minor": 2
}
